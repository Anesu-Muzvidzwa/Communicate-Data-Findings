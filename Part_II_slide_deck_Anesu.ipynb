{
 "cells": [
  {
   "cell_type": "markdown",
   "metadata": {
    "slideshow": {
     "slide_type": "slide"
    }
   },
   "source": [
    "# Part II - Vehicle Properties and the effects on CO2 emissions\n",
    "## by Boddington Anesu Muzvidzwa"
   ]
  },
  {
   "cell_type": "markdown",
   "metadata": {
    "slideshow": {
     "slide_type": "slide"
    }
   },
   "source": [
    "\n",
    "\n",
    "## Investigation Overview\n",
    "\n",
    "\n",
    ">The aim of this data analysis was to find out which vehicle properties led to the least production of Co2 emissions from vehicles and what relationship did some of these properties have with CO2 emissions. For this presentation we focused  more on the engine sizes, combined fuel consumption and vehicle class and how they affect CO2 emissions\n",
    "\n",
    "\n",
    "\n",
    "\n",
    "\n",
    "## Dataset Overview\n",
    "\n",
    "\n",
    "> The dataset consists of 7385 cars with the following features Make, Model, Vehicle class, Engine Size(L), Cylinders, Transmission, Fuel Type, Fuel Consumption City (L/100 km), Fuel Consumption Hwy (L/100 km), Fuel Consumption Comb (L/100 km),  Fuel Consumption Comb (mpg) and finally CO2 Emissions(g/km)\n",
    "\n",
    "\n"
   ]
  },
  {
   "cell_type": "markdown",
   "metadata": {
    "slideshow": {
     "slide_type": "slide"
    }
   },
   "source": [
    "### Data description\n",
    "#### Fuel type meanings\n",
    "> D - Diesel\n",
    "\n",
    "> E - Ethanol\n",
    "\n",
    "> N - Natural Gas\n",
    "\n",
    "> X - Regualr Gas\n",
    "\n",
    "> Z - Premium Gasoline\n",
    "\n",
    "#### Transmission Types\n",
    "> A - Automatic\n",
    "\n",
    "> AM - Automated Manuel\n",
    "\n",
    "> AS - Aoutomatic with select shift\n",
    "\n",
    "> AV - Continously Variable \n",
    "\n",
    "> M - Manual"
   ]
  },
  {
   "cell_type": "code",
   "execution_count": 1,
   "metadata": {
    "slideshow": {
     "slide_type": "skip"
    }
   },
   "outputs": [],
   "source": [
    "# import all packages and set plots to be embedded inline\n",
    "import numpy as np\n",
    "import pandas as pd\n",
    "import matplotlib.pyplot as plt\n",
    "import seaborn as sb\n",
    "\n",
    "%matplotlib inline\n",
    "\n",
    "\n",
    "# suppress warnings from final output\n",
    "import warnings\n",
    "warnings.simplefilter(\"ignore\")"
   ]
  },
  {
   "cell_type": "code",
   "execution_count": 2,
   "metadata": {
    "slideshow": {
     "slide_type": "skip"
    }
   },
   "outputs": [],
   "source": [
    "# load in the dataset into a pandas dataframe\n",
    "co2 = pd.read_csv('CO2 Emissions_Canada.csv')\n"
   ]
  },
  {
   "cell_type": "code",
   "execution_count": 3,
   "metadata": {
    "slideshow": {
     "slide_type": "skip"
    }
   },
   "outputs": [],
   "source": [
    "#data wragnling\n",
    "#renaming the columns to remove spaces (as to reduce invalid syntax errors)\n",
    "co2.rename(columns = {'Vehicle Class':'Vehicle_Class',\n",
    "                       'Engine Size(L)':'Engine_Size(L)',\n",
    "                      'Fuel Type':'Fuel_Type', \n",
    "                      'Fuel Consumption City (L/100 km)':'Fuel_Consumption_City(L/100km)',\n",
    "                      'Fuel Consumption Hwy (L/100 km)':'Fuel_Consumption_Hwy(L/100km)',\n",
    "                      'Fuel Consumption Comb (L/100 km)':'Fuel_Consumption_Comb(L/100km)',\n",
    "                      'Fuel Consumption Comb (mpg)':'Fuel_Consumption_Comb(mpg)',\n",
    "                      'CO2 Emissions(g/km)':'CO2_Emissions(g/km)'}, inplace = True)"
   ]
  },
  {
   "cell_type": "code",
   "execution_count": 4,
   "metadata": {
    "slideshow": {
     "slide_type": "skip"
    }
   },
   "outputs": [],
   "source": [
    "#data wragnling \n",
    "#replacing  hyphens with underscores\n",
    "co2['Vehicle_Class'] = co2['Vehicle_Class'].str.replace(\" - \",\"_\")\n",
    "co2['Vehicle_Class'] = co2['Vehicle_Class'].str.replace(\"-\",\"_\")\n",
    "\n"
   ]
  },
  {
   "cell_type": "code",
   "execution_count": 5,
   "metadata": {
    "slideshow": {
     "slide_type": "skip"
    }
   },
   "outputs": [],
   "source": [
    "#not all trasnmissions have gear numbers \n",
    "#number of gears will be removed for the sake of this analysis\n",
    "\n",
    "co2['Transmission'] = co2.Transmission.str.replace('(\\d)','', regex = True )\n"
   ]
  },
  {
   "cell_type": "code",
   "execution_count": 6,
   "metadata": {
    "slideshow": {
     "slide_type": "skip"
    }
   },
   "outputs": [],
   "source": [
    "#data wrangling\n",
    "#changing datatypes Transmission, vehicle class and Fuel Type\n",
    "\n",
    "for col in ['Vehicle_Class','Fuel_Type','Transmission','Make']:\n",
    "   \n",
    "    co2[col] = co2[col].astype('category')"
   ]
  },
  {
   "cell_type": "markdown",
   "metadata": {
    "slideshow": {
     "slide_type": "notes"
    }
   },
   "source": [
    "> Note that the above cells have been set as \"Skip\"-type slides. That means\n",
    "that when the notebook is rendered as http slides, those cells won't show up."
   ]
  },
  {
   "cell_type": "markdown",
   "metadata": {
    "slideshow": {
     "slide_type": "slide"
    }
   },
   "source": [
    "## Destribution of CO2 emissions\n",
    "\n",
    "> Firstly we need to see how the carbon dioxide emissions are spread out. The histogram plot shows a symmetric, unimodal distribution with the majority of vehicles releasing about 250g/km of carbon dioxide. The highest releasing 522 g/km and the lowest giving out 96g/km. This is quite a wide range.\n",
    "\n"
   ]
  },
  {
   "cell_type": "code",
   "execution_count": 7,
   "metadata": {
    "slideshow": {
     "slide_type": "subslide"
    }
   },
   "outputs": [
    {
     "ename": "AttributeError",
     "evalue": "module 'seaborn' has no attribute 'displot'",
     "output_type": "error",
     "traceback": [
      "\u001b[0;31m---------------------------------------------------------------------------\u001b[0m",
      "\u001b[0;31mAttributeError\u001b[0m                            Traceback (most recent call last)",
      "\u001b[0;32m<ipython-input-7-689ce35d77f4>\u001b[0m in \u001b[0;36m<module>\u001b[0;34m()\u001b[0m\n\u001b[1;32m      1\u001b[0m \u001b[0;31m#histogram showing the destribution of co2\u001b[0m\u001b[0;34m\u001b[0m\u001b[0;34m\u001b[0m\u001b[0m\n\u001b[0;32m----> 2\u001b[0;31m \u001b[0msb\u001b[0m\u001b[0;34m.\u001b[0m\u001b[0mdisplot\u001b[0m\u001b[0;34m(\u001b[0m\u001b[0mco2\u001b[0m\u001b[0;34m[\u001b[0m\u001b[0;34m'CO2_Emissions(g/km)'\u001b[0m\u001b[0;34m]\u001b[0m\u001b[0;34m,\u001b[0m \u001b[0mkde\u001b[0m\u001b[0;34m=\u001b[0m\u001b[0;32mFalse\u001b[0m\u001b[0;34m)\u001b[0m\u001b[0;34m\u001b[0m\u001b[0m\n\u001b[0m\u001b[1;32m      3\u001b[0m \u001b[0mplt\u001b[0m\u001b[0;34m.\u001b[0m\u001b[0mtitle\u001b[0m\u001b[0;34m(\u001b[0m\u001b[0;34m'Destribution of CO2 Emissions'\u001b[0m\u001b[0;34m)\u001b[0m\u001b[0;34m;\u001b[0m\u001b[0;34m\u001b[0m\u001b[0m\n",
      "\u001b[0;31mAttributeError\u001b[0m: module 'seaborn' has no attribute 'displot'"
     ]
    }
   ],
   "source": [
    "#histogram showing the destribution of co2\n",
    "sb.displot(co2['CO2_Emissions(g/km)'], kde=False)\n",
    "plt.title('Destribution of CO2 Emissions');"
   ]
  },
  {
   "cell_type": "markdown",
   "metadata": {
    "collapsed": true,
    "slideshow": {
     "slide_type": "slide"
    }
   },
   "source": [
    "## Relationship between CO2 emissions and engine size \n",
    "\n",
    "The bigger the engine size the carbon dioxide will be produced, with 8L engines producing around 500g/km of carbon dioxide.\n"
   ]
  },
  {
   "cell_type": "code",
   "execution_count": null,
   "metadata": {
    "slideshow": {
     "slide_type": "subslide"
    }
   },
   "outputs": [],
   "source": [
    "#plotting scatter plot with transparency\n",
    "plt.figure(figsize=(20,10))\n",
    "\n",
    "plt.scatter(data = co2, x = 'Engine_Size(L)', y = 'CO2_Emissions(g/km)', alpha= 1/10);\n",
    "plt.xlabel('Engine_Size(L)')\n",
    "plt.ylabel('CO2_Emissions(g/km)')\n",
    "plt.title('Relationship between Engine size and co2 emissions');"
   ]
  },
  {
   "cell_type": "markdown",
   "metadata": {
    "slideshow": {
     "slide_type": "slide"
    }
   },
   "source": [
    "## Co2 emissions vs Fuel Consumption\n",
    "\n",
    "This relationship  shows a linear relationship between carbon dioxide emissions and combined fuel consumption. however from the plot three distinct clusters of points could be observed. A short one on top the main  line of best fit and another below the line of best fit, this one longer than the first but shorter than the main regression line. \n"
   ]
  },
  {
   "cell_type": "code",
   "execution_count": null,
   "metadata": {
    "slideshow": {
     "slide_type": "subslide"
    }
   },
   "outputs": [],
   "source": [
    "# Convert g/km to g/100km by mathematical operation (multiply co2(g/km) by 100)\n",
    "co2['CO2_Emissions(g/100km)'] = 100*co2[\"CO2_Emissions(g/km)\"]\n",
    "\n",
    "#regression line plot of co emissions vs fuel consumption \n",
    "plt.figure(figsize=(20,10))\n",
    "sb.regplot(data = co2, x = 'Fuel_Consumption_Comb(L/100km)', y = 'CO2_Emissions(g/100km)', x_jitter = 0.5,\n",
    "          scatter_kws={'alpha':1/10} );\n",
    "plt.xlabel('Combined Fuel Consumption')\n",
    "plt.ylabel('CO2_Emissions(g/100km)');"
   ]
  },
  {
   "cell_type": "markdown",
   "metadata": {
    "slideshow": {
     "slide_type": "slide"
    }
   },
   "source": [
    "## Types of fuel and their CO2 emissions\n",
    "\n",
    "Fuel type has a lot of influence on CO2 emissions. Diesel burns less quickly than gasoline or petrol but does it produce less carbon dioxide? The violin plot shows that Diesel has a gier fuel co2 emission than regular gasoline (X) and almost the same with premium gasoline(Z). But an unexpected result was shown by this graph, Ethanol(E) had a higher CO2 emissions than the three conventional fuels clearly something was not adding up so further analyisis was made.\n"
   ]
  },
  {
   "cell_type": "code",
   "execution_count": null,
   "metadata": {
    "slideshow": {
     "slide_type": "subslide"
    }
   },
   "outputs": [],
   "source": [
    "#setting fihure size to get the bigger pucture\n",
    "plt.figure(figsize=(10,5))\n",
    "\n",
    "\n",
    "base_color = sb.color_palette()[0]\n",
    "sb.violinplot(data=co2, x='Fuel_Type', y='CO2_Emissions(g/km)', color=base_color, inner='quartile');"
   ]
  },
  {
   "cell_type": "markdown",
   "metadata": {
    "slideshow": {
     "slide_type": "slide"
    }
   },
   "source": [
    "## CO2 emissions and Fuel Consumption by Fuel type\n",
    "\n",
    "The data was divided into columns of vehicle class so that we could get a clear picture as to which factors actually contribute more to CO2 emissions. A lot of discrepancies were clarified with this plot. First we now understand why in the CO2 emissions vs Combined fuel consumption had 3 distinct scatters, it is because they represented different fuel types. Secondly when divided by vehicle class Ethanol(E) has the lowest CO2 emissions but with a higher fuel consumption rate. Diesel has the highest CO2 emission with least fuel consumption, regular gasoline and premium gasoline have an identical relationship between CO2 and fuel consumption but premium gasoline starts at a much higher fuel consumption than regular gas. \n",
    "\n",
    "\n"
   ]
  },
  {
   "cell_type": "code",
   "execution_count": null,
   "metadata": {
    "slideshow": {
     "slide_type": "subslide"
    }
   },
   "outputs": [],
   "source": [
    "\n",
    "f = sb.FacetGrid(data = co2, hue = 'Fuel_Type', col='Vehicle_Class', col_wrap = 4,\n",
    "                 hue_order= ['X','Z','E','D','N'],size = 4, aspect = 1)\n",
    "f = f.map(sb.regplot, 'Fuel_Consumption_Comb(L/100km)', 'CO2_Emissions(g/100km)', x_jitter = 0.5);\n",
    "f.add_legend()\n",
    "plt.xlabel('Fuel_Consumption_Comb(L/100km)')\n",
    "plt.ylabel('CO2_Emissions(g/km)');"
   ]
  },
  {
   "cell_type": "markdown",
   "metadata": {
    "slideshow": {
     "slide_type": "skip"
    }
   },
   "source": [
    "### Generate Slideshow\n",
    "Once you're ready to generate your slideshow, use the `jupyter nbconvert` command to generate the HTML slide show.  "
   ]
  },
  {
   "cell_type": "code",
   "execution_count": null,
   "metadata": {
    "slideshow": {
     "slide_type": "skip"
    }
   },
   "outputs": [],
   "source": [
    "# Use this command if you are running this file in local\n",
    "!jupyter nbconvert Part_II_slide_deck_Anesu.ipynb --to slides --post serve --no-input --no-promp"
   ]
  },
  {
   "cell_type": "markdown",
   "metadata": {},
   "source": [
    "### Submission\n",
    "If you are using classroom workspace, you can choose from the following two ways of submission:\n",
    "\n",
    "1. **Submit from the workspace**. Make sure you have removed the example project from the /home/workspace directory. You must submit the following files:\n",
    "   - Part_I_notebook.ipynb\n",
    "   - Part_I_notebook.html or pdf\n",
    "   - Part_II_notebook.ipynb\n",
    "   - Part_I_slides.html\n",
    "   - README.md\n",
    "   - dataset (optional)\n",
    "\n",
    "\n",
    "2. **Submit a zip file on the last page of this project lesson**. In this case, open the Jupyter terminal and run the command below to generate a ZIP file. \n",
    "```bash\n",
    "zip -r my_project.zip .\n",
    "```\n",
    "The command abobve will ZIP every file present in your /home/workspace directory. Next, you can download the zip to your local, and follow the instructions on the last page of this project lesson.\n"
   ]
  },
  {
   "cell_type": "code",
   "execution_count": null,
   "metadata": {},
   "outputs": [],
   "source": []
  }
 ],
 "metadata": {
  "celltoolbar": "Slideshow",
  "kernelspec": {
   "display_name": "Python 3",
   "language": "python",
   "name": "python3"
  },
  "language_info": {
   "codemirror_mode": {
    "name": "ipython",
    "version": 3
   },
   "file_extension": ".py",
   "mimetype": "text/x-python",
   "name": "python",
   "nbconvert_exporter": "python",
   "pygments_lexer": "ipython3",
   "version": "3.6.3"
  }
 },
 "nbformat": 4,
 "nbformat_minor": 2
}
